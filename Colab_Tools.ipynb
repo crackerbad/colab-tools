{
  "nbformat": 4,
  "nbformat_minor": 0,
  "metadata": {
    "colab": {
      "provenance": [],
      "include_colab_link": true
    },
    "kernelspec": {
      "name": "python3",
      "display_name": "Python 3"
    },
    "gpuClass": "standard"
  },
  "cells": [
    {
      "cell_type": "markdown",
      "metadata": {
        "id": "view-in-github",
        "colab_type": "text"
      },
      "source": [
        "<a href=\"https://colab.research.google.com/github/crackerbad/colab-tools/blob/main/Colab_Tools.ipynb\" target=\"_parent\"><img src=\"https://colab.research.google.com/assets/colab-badge.svg\" alt=\"Open In Colab\"/></a>"
      ]
    },
    {
      "cell_type": "markdown",
      "metadata": {
        "id": "l1xZ3YTCc3hN"
      },
      "source": [
        "# Google Drive Login"
      ]
    },
    {
      "cell_type": "code",
      "metadata": {
        "id": "Uo_Bd1WwFFOP",
        "cellView": "form"
      },
      "source": [
        "#@markdown <br><center><img src='https://upload.wikimedia.org/wikipedia/commons/thumb/d/da/Google_Drive_logo.png/600px-Google_Drive_logo.png' height=\"50\" alt=\"Gdrive-logo\"/></center>\n",
        "#@markdown <center><h3>Mount Gdrive to /content/drive</h3></center><br>\n",
        "MODE = \"MOUNT\" #@param [\"MOUNT\", \"UNMOUNT\"]\n",
        "#Mount your Gdrive! \n",
        "from google.colab import drive\n",
        "drive.mount._DEBUG = False\n",
        "if MODE == \"MOUNT\":\n",
        "  drive.mount('/content/drive', force_remount=True)\n",
        "elif MODE == \"UNMOUNT\":\n",
        "  try:\n",
        "    drive.flush_and_unmount()\n",
        "  except ValueError:\n",
        "    pass\n",
        "  get_ipython().system_raw(\"rm -rf /root/.config/Google/DriveFS\")"
      ],
      "execution_count": null,
      "outputs": []
    },
    {
      "cell_type": "markdown",
      "metadata": {
        "id": "BsN0qvw8dD8k"
      },
      "source": [
        "# Timeout"
      ]
    },
    {
      "cell_type": "code",
      "source": [
        "#@markdown <br><center><img src='https://miro.medium.com/max/2036/1*GW4cqNv-SIQ9BGGhssL1bQ.png' height=\"100\" alt=\"netdata\"/></center>\n",
        "#@title <center><b>Time Out Preventer (Advanced) </b></center></strong>\n",
        "%%capture\n",
        "AUTO_RECONNECT = True #@param {type:\"boolean\"}\n",
        "#@markdown **Run this code to prevent Google Colab from Timeout**\n",
        "from os import makedirs\n",
        "makedirs(\"/root/.config/rclone\", exist_ok = True)\n",
        "if AUTO_RECONNECT:\n",
        "  import IPython\n",
        "  from google.colab import output\n",
        "\n",
        "  display(IPython.display.Javascript('''\n",
        "  function ClickConnect(){\n",
        "    btn = document.querySelector(\"colab-connect-button\")\n",
        "    if (btn != null){\n",
        "      console.log(\"Click colab-connect-button\"); \n",
        "      btn.click() \n",
        "      }\n",
        "    \n",
        "    btn = document.getElementById('ok')\n",
        "    if (btn != null){\n",
        "      console.log(\"Click reconnect\"); \n",
        "      btn.click() \n",
        "      }\n",
        "    }\n",
        "    \n",
        "  setInterval(ClickConnect,60000)\n",
        "  '''))"
      ],
      "metadata": {
        "cellView": "form",
        "id": "7rAWpcdPmFLw"
      },
      "execution_count": null,
      "outputs": []
    },
    {
      "cell_type": "markdown",
      "metadata": {
        "id": "gIHEbaZU8tuT"
      },
      "source": [
        "# Requerimentos"
      ]
    },
    {
      "cell_type": "code",
      "source": [
        "#@markdown <br><center><img src='https://i.imgur.com/VvjOf7S.png' height=\"150\" alt=\"CR-logo\"/></center>\n",
        "#@markdown <center><h3>Instalar Ferramentas</h3></center><br>\n",
        "!curl https://raw.githubusercontent.com/crackerbad/colab-tools/main/colab-tools.sh | bash\n",
        "\n",
        "from IPython.display import clear_output\n",
        "clear_output()"
      ],
      "metadata": {
        "id": "jnC_LeaymezO",
        "cellView": "form"
      },
      "execution_count": 2,
      "outputs": []
    },
    {
      "cell_type": "markdown",
      "source": [
        "<br><br><br><br><br><br><br>"
      ],
      "metadata": {
        "id": "GxUCQeti_7gE"
      }
    },
    {
      "cell_type": "markdown",
      "source": [
        "# <center><img src='https://logodownload.org/wp-content/uploads/2020/02/crunchyroll-logo.png' height=\"50\" alt=\"CR-logo\"/>\n",
        "<center><h3>Downloader</h3></center><br>"
      ],
      "metadata": {
        "id": "sqdjBnUzjqI3"
      }
    },
    {
      "cell_type": "markdown",
      "source": [
        "LISTA-DUB.TXT"
      ],
      "metadata": {
        "id": "SDRqPXavlKFz"
      }
    },
    {
      "cell_type": "code",
      "source": [
        "%%writefile lista-dub.txt\n",
        "https://www.crunchyroll.com/pt-br/requiem-of-the-rose-king/episode-12-richard-is-dead-died-alone-in-the-woods-that-day-843391\n"
      ],
      "metadata": {
        "id": "hNjEWxoYlIP0"
      },
      "execution_count": null,
      "outputs": []
    },
    {
      "cell_type": "markdown",
      "source": [
        "LISTA-LEG.TXT"
      ],
      "metadata": {
        "id": "AX6DN7CImy_S"
      }
    },
    {
      "cell_type": "code",
      "source": [
        "%%writefile lista-leg.txt\n",
        "https://www.crunchyroll.com/pt-br/requiem-of-the-rose-king/episode-12-richard-is-dead-died-alone-in-the-woods-that-day-842369"
      ],
      "metadata": {
        "id": "x6PduaeTmy_e"
      },
      "execution_count": null,
      "outputs": []
    },
    {
      "cell_type": "code",
      "source": [
        "#@title BAIXAR LEGENDADO\n",
        "!yt-dlp  --progress -q --no-warnings --cookies cookies.txt -o \"%(series)s - %(episode_number)02d [WEB-DL 1080p] [CR].%(ext)s\"  --write-sub --sub-lang ptBR --sub-format ass -f b -a \"lista-leg.txt\"\n",
        "!for f in *.mp4 ; do mkvmerge -o \"Download/${f%.mp4}.mkv\" --track-name \"1:JAP AAC 2.0\" --language 1:ja \"$f\" --track-name \"0:Crunchyroll FULL\" --language \"0:por\" \"${f%.mp4}.ptBR.ass\" ; rm \"$f\" ; rm \"${f%.mp4}.ptBR.ass\" ;done"
      ],
      "metadata": {
        "cellView": "form",
        "id": "Fg2hZQ7eFmLE"
      },
      "execution_count": null,
      "outputs": []
    },
    {
      "cell_type": "code",
      "source": [
        "#@title BAIXAR DUAL-AUDIO\n",
        "#baixando audio dublado\n",
        "!yt-dlp -f bestaudio -o \"temp/%(series)s - %(episode_number)02d [CR] [WEB-DL \"$quality\"p].%(ext)s\" --cookies \"cookies.txt\" -a \"lista-dub.txt\" --write-sub --sub-lang pt-BR --sub-format ass --fragment-retries 20 -N 16 --extractor-args crunchyrollbeta:format=adaptive_dash\n",
        "#arrumando nomes\n",
        "!for file in ./*; do mv \"$file\" \"${file/ (*)/}\"; done\n",
        "#extraindo audios\n",
        "!for f in *.mp4 ; do mkvmerge -o \"${f%.m4a}.mka\" --track-name \"0:PT-BR AAC 2.0\" --language 0:pt --no-video \"$f\" --track-name \"0:Crunchyroll Forced\" --language \"0:pt\" --default-track \"0:yes\" \"${f%.m4a}.pt-BR.ass\"  ; rm \"$f\" ; rm \"${f%.m4a}.ptBR.ass\" ;done\n",
        "#removendo partes do nome\n",
        "!rename 's= \\(Dubs\\)==' temp/*\n",
        "!rename 's= \\(Dublado\\)==' temp/*\n",
        "\n",
        "#baixando video com audio japones e legendas\n",
        "!yt-dlp -f best[height=$quality] -o \"temp/%(series)s - %(episode_number)02d [CR] [WEB-DL \"$quality\"p].%(ext)s\" --cookies \"cookies.txt\" -a \"lista-leg.txt\" --write-sub --sub-lang pt-BR --sub-format ass --fragment-retries 20 --external-downloader aria2c --external-downloader-args \"aria2c:-x4\"\n",
        "#juntando legenda+video\n",
        "%cd temp\n",
        "!for f in *.mp4 ; do mkvmerge -o \"${f%.mp4}.mkv\" --track-name \"1:JAP AAC 2.0\" --language 1:ja \"$f\" --track-name \"0:Crunchyroll FULL\" --language \"0:pt\" \"${f%.mp4}.pt-BR.ass\" ; rm \"$f\" ; rm \"${f%.mp4}.ptBR.ass\" ;done\n",
        "#finalizando juntando tudo\n",
        "!for f in *.mka ; do mkvmerge -o \"../Downloads/${file%.mka} [Dual-Audio].mkv\" \"$file\" \"${file%.mka}.mkv\" --track-order 1:0,0:0,1:1,0:1,1:2 ; rm \"$file\" ; rm \"${file%.mka}.mkv\" ;done\n",
        "%cd ..\n",
        "!rmdir temp/"
      ],
      "metadata": {
        "id": "f09NNBXvo__G",
        "cellView": "form"
      },
      "execution_count": null,
      "outputs": []
    },
    {
      "cell_type": "markdown",
      "source": [
        "<br><br><br><br><br>"
      ],
      "metadata": {
        "id": "Z_yutBUyK6Tp"
      }
    },
    {
      "cell_type": "markdown",
      "source": [
        "# <center><img src='https://www.seekpng.com/png/full/774-7747311_ummy-youtube-downloader-for-mac-ummy-video-downloader.png' height=\"200\" alt=\"Multi-logo\"/>\n",
        "<center><h3>Downloader</h3></center><br>"
      ],
      "metadata": {
        "id": "tcVCK8ZvxGvL"
      }
    },
    {
      "cell_type": "code",
      "source": [
        "# User Input\n",
        "Source = \"https://kumo.anitsu.moe/nextcloud/s/KfmLyiSwQFabsBf\" #@param {type:\"string\"} \n",
        "Mode = \"Anitsu Folder\" #@param [\"Google Drive File\", \"Google Drive Folder\",\"OneDrive Sharepoint\",\"Anitsu ZIP\",\"Anitsu Folder\",\"Google Drive Index\", \"Torrent (Magnet ou .Torrent)\"]\n",
        "Destination = \"/content/\" #@param {type:\"string\"} \n",
        "# Task Completed Message\n",
        "output = \"Task Completed Successfully!\"\n",
        "# Work\n",
        "if(Mode==\"Google Drive File\"):\n",
        "  %cd {Destination}\n",
        "  !gdown {Source}\n",
        "  print(output)\n",
        "  %cd /content\n",
        "if(Mode==\"Google Drive Folder\"):\n",
        "  %cd {Destination}\n",
        "  !gdown {Source} --folder\n",
        "  print(output)\n",
        "  %cd /content\n",
        "if(Mode==\"OneDrive Sharepoint\"):\n",
        "  %cd {Destination}\n",
        "  !sh /content/odrive/odrive-downloader.sh {Source}\n",
        "  %cd /content\n",
        "if(Mode==\"Anitsu ZIP\"):\n",
        "  %cd /content\n",
        "  !wget {Source} -O Download.zip\n",
        "  !unzip Download.zip\n",
        "  !rm Download.zip\n",
        "if(Mode==\"Anitsu Folder\"):\n",
        "  %cd {Destination}\n",
        "  !chmod u+r+x /content/nextcloud/nextcloud_share_url_downloader.sh\n",
        "  !bash /content/nextcloud/nextcloud_share_url_downloader.sh {Source} pasta pasta\n",
        "  %cd /content\n",
        "if(Mode==\"Google Drive Index\"):\n",
        "  %cd {Destination}\n",
        "  !python3 /content/nextcloud/index-downloader.py -u {Source}\n",
        "  %cd /content\n",
        "if(Mode==\"Torrent (Magnet ou .Torrent)\"):\n",
        "  %cd {Destination}\n",
        "  !aria2c --seed-time=0 --auto-save-interval=0 {Source} -d \"{Destination}\" --disable-ipv6\n",
        "  !rm *.torrent\n",
        "  %cd /content"
      ],
      "metadata": {
        "id": "xYGbH_E7VWgq",
        "cellView": "form"
      },
      "execution_count": null,
      "outputs": []
    },
    {
      "cell_type": "code",
      "source": [
        "!df -H"
      ],
      "metadata": {
        "id": "OC3i81_29aqF"
      },
      "execution_count": null,
      "outputs": []
    }
  ]
}